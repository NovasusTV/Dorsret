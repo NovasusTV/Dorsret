{
 "cells": [
  {
   "cell_type": "code",
   "execution_count": 1,
   "id": "b0cf348d",
   "metadata": {},
   "outputs": [],
   "source": [
    "import numpy as np\n",
    "import pandas as pd\n",
    "import matplotlib as mtl\n",
    "import os\n",
    "import seaborn as sns\n",
    "\n",
    "from sklearn.model_selection import train_test_split\n",
    "from sklearn.svm import SVC\n",
    "from sklearn.ensemble import RandomForestClassifier\n",
    "from sklearn.metrics import classification_report, accuracy_score\n",
    "import joblib"
   ]
  },
  {
   "cell_type": "code",
   "execution_count": 2,
   "id": "1f6a69db",
   "metadata": {},
   "outputs": [
    {
     "name": "stdout",
     "output_type": "stream",
     "text": [
      "C:\\Users\\aksil\\DataScience_IA\n"
     ]
    }
   ],
   "source": [
    "root_dir = os.getcwd()\n",
    "print (os.getcwd()) # cwd = current working directory"
   ]
  },
  {
   "cell_type": "code",
   "execution_count": 3,
   "id": "27dd78ab",
   "metadata": {},
   "outputs": [
    {
     "name": "stdout",
     "output_type": "stream",
     "text": [
      "C:\\Users\\aksil\\DataScience_IA\\Datasets\n"
     ]
    }
   ],
   "source": [
    "dataset_dir = os.path.join(root_dir,\"Datasets\")\n",
    "print(dataset_dir)"
   ]
  },
  {
   "cell_type": "code",
   "execution_count": 4,
   "id": "a8d04905",
   "metadata": {},
   "outputs": [],
   "source": [
    "dataset = \"Telco_customer_churn.csv\"\n",
    "df = pd.read_csv(os.path.join(dataset_dir,dataset))"
   ]
  },
  {
   "cell_type": "code",
   "execution_count": 5,
   "id": "0d4efd81",
   "metadata": {},
   "outputs": [
    {
     "data": {
      "text/plain": [
       "CustomerID            object\n",
       "Count                  int64\n",
       "Country               object\n",
       "State                 object\n",
       "City                  object\n",
       "Zip Code               int64\n",
       "Lat Long              object\n",
       "Latitude             float64\n",
       "Longitude            float64\n",
       "Gender                object\n",
       "Senior Citizen        object\n",
       "Partner               object\n",
       "Dependents            object\n",
       "Tenure Months          int64\n",
       "Phone Service         object\n",
       "Multiple Lines        object\n",
       "Internet Service      object\n",
       "Online Security       object\n",
       "Online Backup         object\n",
       "Device Protection     object\n",
       "Tech Support          object\n",
       "Streaming TV          object\n",
       "Streaming Movies      object\n",
       "Contract              object\n",
       "Paperless Billing     object\n",
       "Payment Method        object\n",
       "Monthly Charges      float64\n",
       "Total Charges         object\n",
       "Churn Label           object\n",
       "Churn Value            int64\n",
       "Churn Score            int64\n",
       "CLTV                   int64\n",
       "Churn Reason          object\n",
       "dtype: object"
      ]
     },
     "execution_count": 5,
     "metadata": {},
     "output_type": "execute_result"
    }
   ],
   "source": [
    "df.head()\n",
    "df.dtypes\n"
   ]
  },
  {
   "cell_type": "code",
   "execution_count": 6,
   "id": "ba1b743e",
   "metadata": {},
   "outputs": [
    {
     "data": {
      "text/plain": [
       "<Axes: xlabel='Churn Value', ylabel='count'>"
      ]
     },
     "execution_count": 6,
     "metadata": {},
     "output_type": "execute_result"
    },
    {
     "data": {
      "image/png": "[encoded data removed]",
      "text/plain": [
       "<Figure size 640x480 with 1 Axes>"
      ]
     },
     "metadata": {},
     "output_type": "display_data"
    }
   ],
   "source": [
    "sns.countplot(x='Churn Value', data=df, palette=['#432371',\"#FAAE7B\"])"
   ]
  },
  {
   "cell_type": "code",
   "execution_count": 7,
   "id": "050e073a",
   "metadata": {},
   "outputs": [],
   "source": [
    "df = df.drop(['CustomerID', 'Count', 'Lat Long'], axis=1)\n",
    "\n",
    "df = pd.get_dummies(df, drop_first=True)\n",
    "\n",
    "df = df.dropna()\n",
    "\n",
    "X = df.drop('Churn Label_Yes', axis=1)\n",
    "y = df['Churn Label_Yes']\n"
   ]
  },
  {
   "cell_type": "code",
   "execution_count": 8,
   "id": "075a83a0",
   "metadata": {},
   "outputs": [
    {
     "name": "stdout",
     "output_type": "stream",
     "text": [
      "Accuracy: 0.7189496096522356\n"
     ]
    }
   ],
   "source": [
    "from sklearn.model_selection import train_test_split\n",
    "from sklearn.preprocessing import StandardScaler\n",
    "from sklearn.neighbors import KNeighborsClassifier\n",
    "from sklearn.metrics import accuracy_score\n",
    "\n",
    "X_train, X_test, y_train, y_test = train_test_split(X, y, test_size=0.2, random_state=42)\n",
    "\n",
    "scaler = StandardScaler()\n",
    "X_train_scaled = scaler.fit_transform(X_train)\n",
    "X_test_scaled = scaler.transform(X_test)\n",
    "\n",
    "knn = KNeighborsClassifier(n_neighbors=5)\n",
    "knn.fit(X_train_scaled, y_train)\n",
    "\n",
    "y_pred = knn.predict(X_test_scaled)\n",
    "\n",
    "accuracy = accuracy_score(y_test, y_pred)\n",
    "print(f\"Accuracy: {accuracy}\")\n"
   ]
  },
  {
   "cell_type": "code",
   "execution_count": null,
   "id": "d6904dd8",
   "metadata": {},
   "outputs": [],
   "source": [
    "from sklearn.model_selection import GridSearchCV\n",
    "from sklearn.model_selection import train_test_split\n",
    "from sklearn.svm import SVC\n",
    "\n",
    "param_grid = {'C': [0.1, 1, 10],\n",
    "              'gamma': [0.1, 1, 10],\n",
    "              'kernel': ['linear', 'rbf']}\n",
    "\n",
    "model = SVC()\n",
    "\n",
    "X_train, X_test, y_train, y_test = train_test_split(X, y, test_size=0.2, random_state=42)\n",
    "\n",
    "grid_search = GridSearchCV(model, param_grid, scoring='accuracy', cv=5)\n",
    "\n",
    "grid_search.fit(X_train, y_train)\n",
    "\n",
    "best_params = grid_search.best_params_\n",
    "best_score = grid_search.best_score_\n",
    "\n",
    "final_model = SVC(**best_params)\n",
    "final_model.fit(X_train, y_train)\n",
    "accuracy = final_model.score(X_test, y_test)\n",
    "\n",
    "print(\"Best Parameters:\", best_params)\n",
    "print(\"Best Score:\", best_score)\n",
    "print(\"Final Model Accuracy:\", accuracy)\n",
    "\n"
   ]
  },
  {
   "cell_type": "code",
   "execution_count": null,
   "id": "277058d1",
   "metadata": {},
   "outputs": [],
   "source": []
  },
  {
   "cell_type": "code",
   "execution_count": null,
   "id": "02415c34",
   "metadata": {},
   "outputs": [],
   "source": []
  },
  {
   "cell_type": "code",
   "execution_count": null,
   "id": "7a2b49a5",
   "metadata": {},
   "outputs": [],
   "source": []
  },
  {
   "cell_type": "code",
   "execution_count": null,
   "id": "21262e36",
   "metadata": {},
   "outputs": [],
   "source": []
  }
 ],
 "metadata": {
  "kernelspec": {
   "display_name": "Python 3 (ipykernel)",
   "language": "python",
   "name": "python3"
  },
  "language_info": {
   "codemirror_mode": {
    "name": "ipython",
    "version": 3
   },
   "file_extension": ".py",
   "mimetype": "text/x-python",
   "name": "python",
   "nbconvert_exporter": "python",
   "pygments_lexer": "ipython3",
   "version": "3.8.16"
  }
 },
 "nbformat": 4,
 "nbformat_minor": 5
}
